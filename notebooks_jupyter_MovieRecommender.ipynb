{
 "cells": [
  {
   "cell_type": "markdown",
   "metadata": {},
   "source": [
    "# Invoke SparkContext"
   ]
  },
  {
   "cell_type": "markdown",
   "metadata": {},
   "source": [
    "## SparkSession"
   ]
  },
  {
   "cell_type": "code",
   "execution_count": 2,
   "metadata": {},
   "outputs": [],
   "source": [
    "from pyspark.sql import SparkSession\n",
    "spark = SparkSession \\\n",
    "    .builder \\\n",
    "    .appName(\"Project\") \\\n",
    "    .config(\"spark.some.config.option\", \"some-value\") \\\n",
    "    .getOrCreate()"
   ]
  },
  {
   "cell_type": "markdown",
   "metadata": {},
   "source": [
    "## Load Data"
   ]
  },
  {
   "cell_type": "code",
   "execution_count": 3,
   "metadata": {},
   "outputs": [
    {
     "name": "stdout",
     "output_type": "stream",
     "text": [
      "Links dataset\n",
      "+-------+------+------+\n",
      "|movieId|imdbId|tmdbId|\n",
      "+-------+------+------+\n",
      "|      1|114709|   862|\n",
      "|      2|113497|  8844|\n",
      "|      3|113228| 15602|\n",
      "|      4|114885| 31357|\n",
      "|      5|113041| 11862|\n",
      "|      6|113277|   949|\n",
      "|      7|114319| 11860|\n",
      "|      8|112302| 45325|\n",
      "|      9|114576|  9091|\n",
      "|     10|113189|   710|\n",
      "+-------+------+------+\n",
      "only showing top 10 rows\n",
      "\n",
      "Movies dataset\n",
      "+-------+--------------------+--------------------+\n",
      "|movieId|               title|              genres|\n",
      "+-------+--------------------+--------------------+\n",
      "|      1|    Toy Story (1995)|Adventure|Animati...|\n",
      "|      2|      Jumanji (1995)|Adventure|Childre...|\n",
      "|      3|Grumpier Old Men ...|      Comedy|Romance|\n",
      "|      4|Waiting to Exhale...|Comedy|Drama|Romance|\n",
      "|      5|Father of the Bri...|              Comedy|\n",
      "|      6|         Heat (1995)|Action|Crime|Thri...|\n",
      "|      7|      Sabrina (1995)|      Comedy|Romance|\n",
      "|      8| Tom and Huck (1995)|  Adventure|Children|\n",
      "|      9| Sudden Death (1995)|              Action|\n",
      "|     10|    GoldenEye (1995)|Action|Adventure|...|\n",
      "+-------+--------------------+--------------------+\n",
      "only showing top 10 rows\n",
      "\n",
      "Rarings dataset\n",
      "+------+-------+------+---------+\n",
      "|userId|movieId|rating|timestamp|\n",
      "+------+-------+------+---------+\n",
      "|     1|      1|   4.0|964982703|\n",
      "|     1|      3|   4.0|964981247|\n",
      "|     1|      6|   4.0|964982224|\n",
      "|     1|     47|   5.0|964983815|\n",
      "|     1|     50|   5.0|964982931|\n",
      "|     1|     70|   3.0|964982400|\n",
      "|     1|    101|   5.0|964980868|\n",
      "|     1|    110|   4.0|964982176|\n",
      "|     1|    151|   5.0|964984041|\n",
      "|     1|    157|   5.0|964984100|\n",
      "+------+-------+------+---------+\n",
      "only showing top 10 rows\n",
      "\n",
      "Tags dataset\n",
      "+------+-------+-----------------+----------+\n",
      "|userId|movieId|              tag| timestamp|\n",
      "+------+-------+-----------------+----------+\n",
      "|     2|  60756|            funny|1445714994|\n",
      "|     2|  60756|  Highly quotable|1445714996|\n",
      "|     2|  60756|     will ferrell|1445714992|\n",
      "|     2|  89774|     Boxing story|1445715207|\n",
      "|     2|  89774|              MMA|1445715200|\n",
      "|     2|  89774|        Tom Hardy|1445715205|\n",
      "|     2| 106782|            drugs|1445715054|\n",
      "|     2| 106782|Leonardo DiCaprio|1445715051|\n",
      "|     2| 106782|  Martin Scorsese|1445715056|\n",
      "|     7|  48516|     way too long|1169687325|\n",
      "+------+-------+-----------------+----------+\n",
      "only showing top 10 rows\n",
      "\n"
     ]
    }
   ],
   "source": [
    "from pyspark import SQLContext\n",
    "\n",
    "print(\"Links dataset\")\n",
    "links = spark.read.load(\"gs://bdpp-movie-recommender-system-bucket/notebooks/jupyter/Data/links.csv\",format=\"csv\", inferSchema=\"true\", header=\"true\")\n",
    "links.show(10)\n",
    "\n",
    "print(\"Movies dataset\")\n",
    "movies = spark.read.load(\"gs://bdpp-movie-recommender-system-bucket/notebooks/jupyter/Data/movies.csv\",format=\"csv\", inferSchema=\"true\", header=\"true\")\n",
    "movies.show(10)\n",
    "\n",
    "print(\"Rarings dataset\")\n",
    "old_ratings = spark.read.load(\"gs://bdpp-movie-recommender-system-bucket/notebooks/jupyter/Data/ratings.csv\",format=\"csv\", inferSchema=\"true\", header=\"true\")\n",
    "old_ratings.show(10)\n",
    "\n",
    "print(\"Tags dataset\")\n",
    "tags = spark.read.load(\"gs://bdpp-movie-recommender-system-bucket/notebooks/jupyter/Data/tags.csv\",format=\"csv\", inferSchema=\"true\", header=\"true\")\n",
    "tags.show(10)"
   ]
  },
  {
   "cell_type": "markdown",
   "metadata": {},
   "source": [
    "# Learn more about the data "
   ]
  },
  {
   "cell_type": "markdown",
   "metadata": {},
   "source": [
    "### The most intresting dataset are \"ratings\" and \"movies\" "
   ]
  },
  {
   "cell_type": "code",
   "execution_count": 4,
   "metadata": {},
   "outputs": [
    {
     "name": "stdout",
     "output_type": "stream",
     "text": [
      "+------+-------+------+\n",
      "|userId|movieId|rating|\n",
      "+------+-------+------+\n",
      "|     1|      1|   4.0|\n",
      "|     1|      3|   4.0|\n",
      "|     1|      6|   4.0|\n",
      "|     1|     47|   5.0|\n",
      "|     1|     50|   5.0|\n",
      "|     1|     70|   3.0|\n",
      "|     1|    101|   5.0|\n",
      "|     1|    110|   4.0|\n",
      "|     1|    151|   5.0|\n",
      "|     1|    157|   5.0|\n",
      "|     1|    163|   5.0|\n",
      "|     1|    216|   5.0|\n",
      "|     1|    223|   3.0|\n",
      "|     1|    231|   5.0|\n",
      "|     1|    235|   4.0|\n",
      "|     1|    260|   5.0|\n",
      "|     1|    296|   3.0|\n",
      "|     1|    316|   3.0|\n",
      "|     1|    333|   5.0|\n",
      "|     1|    349|   4.0|\n",
      "+------+-------+------+\n",
      "only showing top 20 rows\n",
      "\n"
     ]
    }
   ],
   "source": [
    "#Drop the column timestamp Ratings dataset. \n",
    "ratings = old_ratings.drop(\"timestamp\")\n",
    "ratings.show()"
   ]
  },
  {
   "cell_type": "markdown",
   "metadata": {},
   "source": [
    "### Merging the two datasets together. Ratings dataset with Movies dataset"
   ]
  },
  {
   "cell_type": "code",
   "execution_count": 5,
   "metadata": {},
   "outputs": [
    {
     "name": "stdout",
     "output_type": "stream",
     "text": [
      "+-------+------+------+--------------------+--------------------+\n",
      "|movieId|userId|rating|               title|              genres|\n",
      "+-------+------+------+--------------------+--------------------+\n",
      "|      1|     1|   4.0|    Toy Story (1995)|Adventure|Animati...|\n",
      "|      3|     1|   4.0|Grumpier Old Men ...|      Comedy|Romance|\n",
      "|      6|     1|   4.0|         Heat (1995)|Action|Crime|Thri...|\n",
      "|     47|     1|   5.0|Seven (a.k.a. Se7...|    Mystery|Thriller|\n",
      "|     50|     1|   5.0|Usual Suspects, T...|Crime|Mystery|Thr...|\n",
      "|     70|     1|   3.0|From Dusk Till Da...|Action|Comedy|Hor...|\n",
      "|    101|     1|   5.0|Bottle Rocket (1996)|Adventure|Comedy|...|\n",
      "|    110|     1|   4.0|   Braveheart (1995)|    Action|Drama|War|\n",
      "|    151|     1|   5.0|      Rob Roy (1995)|Action|Drama|Roma...|\n",
      "|    157|     1|   5.0|Canadian Bacon (1...|          Comedy|War|\n",
      "|    163|     1|   5.0|    Desperado (1995)|Action|Romance|We...|\n",
      "|    216|     1|   5.0|Billy Madison (1995)|              Comedy|\n",
      "|    223|     1|   3.0|       Clerks (1994)|              Comedy|\n",
      "|    231|     1|   5.0|Dumb & Dumber (Du...|    Adventure|Comedy|\n",
      "|    235|     1|   4.0|      Ed Wood (1994)|        Comedy|Drama|\n",
      "|    260|     1|   5.0|Star Wars: Episod...|Action|Adventure|...|\n",
      "|    296|     1|   3.0| Pulp Fiction (1994)|Comedy|Crime|Dram...|\n",
      "|    316|     1|   3.0|     Stargate (1994)|Action|Adventure|...|\n",
      "|    333|     1|   5.0|    Tommy Boy (1995)|              Comedy|\n",
      "|    349|     1|   4.0|Clear and Present...|Action|Crime|Dram...|\n",
      "+-------+------+------+--------------------+--------------------+\n",
      "only showing top 20 rows\n",
      "\n"
     ]
    }
   ],
   "source": [
    "ratings_movies = ratings.join(movies, [\"movieId\"])\n",
    "ratings_movies.show()"
   ]
  },
  {
   "cell_type": "markdown",
   "metadata": {},
   "source": [
    "## Look for missing values"
   ]
  },
  {
   "cell_type": "code",
   "execution_count": 6,
   "metadata": {},
   "outputs": [
    {
     "name": "stdout",
     "output_type": "stream",
     "text": [
      "+------+-------+------+\n",
      "|userId|movieId|rating|\n",
      "+------+-------+------+\n",
      "|     0|      0|     0|\n",
      "+------+-------+------+\n",
      "\n",
      "+-------+-----+------+\n",
      "|movieId|title|genres|\n",
      "+-------+-----+------+\n",
      "|      0|    0|     0|\n",
      "+-------+-----+------+\n",
      "\n"
     ]
    }
   ],
   "source": [
    "import pyspark.sql.functions as F\n",
    "ratings_null = ratings.agg(*[F.count(F.when(F.isnull(c), c)).alias(c) for c in ratings.columns])\n",
    "ratings_null.show()\n",
    "movies_null = movies.agg(*[F.count(F.when(F.isnull(c), c)).alias(c) for c in movies.columns])\n",
    "movies_null.show()"
   ]
  },
  {
   "cell_type": "code",
   "execution_count": 7,
   "metadata": {},
   "outputs": [
    {
     "name": "stdout",
     "output_type": "stream",
     "text": [
      "The amount of movie id's:\n"
     ]
    },
    {
     "data": {
      "text/plain": [
       "9742"
      ]
     },
     "execution_count": 7,
     "metadata": {},
     "output_type": "execute_result"
    }
   ],
   "source": [
    "print(\"The amount of movie id's:\")\n",
    "movies.select('movieId').distinct().count()\n",
    "#data.select('movieId').distinct().count()"
   ]
  },
  {
   "cell_type": "code",
   "execution_count": 8,
   "metadata": {},
   "outputs": [
    {
     "name": "stdout",
     "output_type": "stream",
     "text": [
      "The amount of ratings id's:\n"
     ]
    },
    {
     "data": {
      "text/plain": [
       "10"
      ]
     },
     "execution_count": 8,
     "metadata": {},
     "output_type": "execute_result"
    }
   ],
   "source": [
    "print(\"The amount of ratings id's:\")\n",
    "ratings.select('rating').distinct().count()"
   ]
  },
  {
   "cell_type": "code",
   "execution_count": 9,
   "metadata": {},
   "outputs": [
    {
     "name": "stdout",
     "output_type": "stream",
     "text": [
      "The amount of user id's:\n"
     ]
    },
    {
     "data": {
      "text/plain": [
       "610"
      ]
     },
     "execution_count": 9,
     "metadata": {},
     "output_type": "execute_result"
    }
   ],
   "source": [
    "print(\"The amount of user id's:\")\n",
    "ratings.select('userId').distinct().count()\n",
    "#data.select('userId').distinct().count()"
   ]
  },
  {
   "cell_type": "code",
   "execution_count": 10,
   "metadata": {},
   "outputs": [
    {
     "name": "stdout",
     "output_type": "stream",
     "text": [
      "The amount of movie titles:\n"
     ]
    },
    {
     "data": {
      "text/plain": [
       "9737"
      ]
     },
     "execution_count": 10,
     "metadata": {},
     "output_type": "execute_result"
    }
   ],
   "source": [
    "print(\"The amount of movie titles:\")\n",
    "movies.select('title').distinct().count()\n",
    "#data.select('title').distinct().count()"
   ]
  },
  {
   "cell_type": "code",
   "execution_count": 11,
   "metadata": {},
   "outputs": [
    {
     "name": "stdout",
     "output_type": "stream",
     "text": [
      "The amount of genres:\n"
     ]
    },
    {
     "data": {
      "text/plain": [
       "951"
      ]
     },
     "execution_count": 11,
     "metadata": {},
     "output_type": "execute_result"
    }
   ],
   "source": [
    "print(\"The amount of genres:\")\n",
    "movies.select('genres').distinct().count()\n",
    "#data.select('genres').distinct().count()"
   ]
  },
  {
   "cell_type": "markdown",
   "metadata": {},
   "source": [
    "## Describe the data"
   ]
  },
  {
   "cell_type": "code",
   "execution_count": 12,
   "metadata": {},
   "outputs": [
    {
     "name": "stdout",
     "output_type": "stream",
     "text": [
      "+-------+------------------+----------------+------------------+\n",
      "|summary|            userId|         movieId|            rating|\n",
      "+-------+------------------+----------------+------------------+\n",
      "|  count|            100836|          100836|            100836|\n",
      "|   mean|326.12756356856676|19435.2957177992| 3.501556983616962|\n",
      "| stddev| 182.6184914635004|35530.9871987003|1.0425292390606342|\n",
      "|    min|                 1|               1|               0.5|\n",
      "|    max|               610|          193609|               5.0|\n",
      "+-------+------------------+----------------+------------------+\n",
      "\n",
      "+-------+------------------+--------------------+------------------+\n",
      "|summary|           movieId|               title|            genres|\n",
      "+-------+------------------+--------------------+------------------+\n",
      "|  count|              9742|                9742|              9742|\n",
      "|   mean|42200.353623485935|                null|              null|\n",
      "| stddev| 52160.49485443825|                null|              null|\n",
      "|    min|                 1|\"11'09\"\"01 - Sept...|(no genres listed)|\n",
      "|    max|            193609|À nous la liberté...|           Western|\n",
      "+-------+------------------+--------------------+------------------+\n",
      "\n",
      "+-------+----------------+------------------+------------------+--------------------+------------------+\n",
      "|summary|         movieId|            userId|            rating|               title|            genres|\n",
      "+-------+----------------+------------------+------------------+--------------------+------------------+\n",
      "|  count|          100836|            100836|            100836|              100836|            100836|\n",
      "|   mean|19435.2957177992|326.12756356856676| 3.501556983616962|                null|              null|\n",
      "| stddev|35530.9871987003| 182.6184914635004|1.0425292390606342|                null|              null|\n",
      "|    min|               1|                 1|               0.5|\"11'09\"\"01 - Sept...|(no genres listed)|\n",
      "|    max|          193609|               610|               5.0|À nous la liberté...|           Western|\n",
      "+-------+----------------+------------------+------------------+--------------------+------------------+\n",
      "\n"
     ]
    }
   ],
   "source": [
    "import pyspark.sql.functions as sqlFunc\n",
    "from pyspark.sql.functions import mean as _mean, stddev as _stddev, col\n",
    "\n",
    "df_stats = ratings.select(\n",
    "    _mean(col('rating')).alias('mean'),\n",
    "    _stddev(col('rating')).alias('std')\n",
    ").collect()\n",
    "\n",
    "mean = df_stats[0]['mean']\n",
    "std = df_stats[0]['std']\n",
    "\n",
    "ratings.describe().show()\n",
    "movies.describe().show()\n",
    "ratings_movies.describe().show()"
   ]
  },
  {
   "cell_type": "markdown",
   "metadata": {},
   "source": [
    "## View average ratings for every movie"
   ]
  },
  {
   "cell_type": "code",
   "execution_count": 13,
   "metadata": {},
   "outputs": [
    {
     "name": "stdout",
     "output_type": "stream",
     "text": [
      "+-------+--------------------+------------------+-------------------+\n",
      "|movieId|               title|       rating_mean|         rating_std|\n",
      "+-------+--------------------+------------------+-------------------+\n",
      "|   2657|Rocky Horror Pict...|3.3412698412698414| 1.1137896541776637|\n",
      "|   2076|  Blue Velvet (1986)|3.9456521739130435|  0.889620773573182|\n",
      "|    493|Menace II Society...|3.6666666666666665| 0.6154574548966637|\n",
      "|    881|    First Kid (1996)|               2.1| 0.8944271909999159|\n",
      "|    442|Demolition Man (1...|3.0925925925925926| 0.9940796972297768|\n",
      "|   6548|  Bad Boys II (2003)|2.8823529411764706|   1.21872643265298|\n",
      "| 141688|       Legend (2015)|               3.5| 0.7071067811865476|\n",
      "|   2171|Next Stop Wonderl...|            3.3125| 0.9613049166924836|\n",
      "|   4085|Beverly Hills Cop...| 3.402173913043478| 0.7573313176131573|\n",
      "|  45447|Da Vinci Code, Th...| 3.122448979591837| 0.8510447760748865|\n",
      "|  38886|Squid and the Wha...|3.4444444444444446| 0.8819171036881969|\n",
      "| 142997|Hotel Transylvani...|             2.875| 0.7500000000000001|\n",
      "|   6059| Recruit, The (2003)|3.3529411764705883| 0.8797141915551492|\n",
      "|    938|         Gigi (1958)|              3.25| 1.2942179105544782|\n",
      "|  96373|       Broken (2012)|               4.5|                NaN|\n",
      "| 134849|   Duck Amuck (1953)|               4.0|                NaN|\n",
      "|  97172|Frankenweenie (2012)|               2.5| 0.7071067811865476|\n",
      "| 161966|         Elle (2016)|               4.0|                NaN|\n",
      "|   5563|City by the Sea (...|2.8333333333333335| 0.7637626158259733|\n",
      "|   2946|        Help! (1965)| 3.357142857142857|0.37796447300922725|\n",
      "+-------+--------------------+------------------+-------------------+\n",
      "only showing top 20 rows\n",
      "\n"
     ]
    }
   ],
   "source": [
    "ratings_movies_mean_std = ratings_movies.groupBy(\"movieId\", \"title\").agg(sqlFunc.mean(\"rating\").alias(\"rating_mean\"), sqlFunc.stddev(\"rating\").alias(\"rating_std\"))\n",
    "ratings_movies_mean_std.show()"
   ]
  },
  {
   "cell_type": "markdown",
   "metadata": {},
   "source": [
    "## Check the users that have rated the most and the least number of movies"
   ]
  },
  {
   "cell_type": "code",
   "execution_count": 14,
   "metadata": {},
   "outputs": [
    {
     "name": "stdout",
     "output_type": "stream",
     "text": [
      "+------+----------+\n",
      "|userId|number_cnt|\n",
      "+------+----------+\n",
      "|   414|      2698|\n",
      "|   599|      2478|\n",
      "|   474|      2108|\n",
      "|   448|      1864|\n",
      "|   274|      1346|\n",
      "|   610|      1302|\n",
      "|    68|      1260|\n",
      "|   380|      1218|\n",
      "|   606|      1115|\n",
      "|   288|      1055|\n",
      "|   249|      1046|\n",
      "|   387|      1027|\n",
      "|   182|       977|\n",
      "|   307|       975|\n",
      "|   603|       943|\n",
      "|   298|       939|\n",
      "|   177|       904|\n",
      "|   318|       879|\n",
      "|   232|       862|\n",
      "|   480|       836|\n",
      "+------+----------+\n",
      "only showing top 20 rows\n",
      "\n",
      "+------+----------+\n",
      "|userId|number_cnt|\n",
      "+------+----------+\n",
      "|   320|        20|\n",
      "|   595|        20|\n",
      "|   278|        20|\n",
      "|   569|        20|\n",
      "|   576|        20|\n",
      "|   406|        20|\n",
      "|   431|        20|\n",
      "|   257|        20|\n",
      "|   189|        20|\n",
      "|   207|        20|\n",
      "|   442|        20|\n",
      "|   194|        20|\n",
      "|    53|        20|\n",
      "|   147|        20|\n",
      "|    49|        21|\n",
      "|   549|        21|\n",
      "|   439|        21|\n",
      "|   547|        21|\n",
      "|    87|        21|\n",
      "|   598|        21|\n",
      "+------+----------+\n",
      "only showing top 20 rows\n",
      "\n"
     ]
    }
   ],
   "source": [
    "from pyspark.sql.functions import *\n",
    "ratings.groupBy(\"userId\").agg(count(\"*\").alias(\"number_cnt\")).orderBy(desc(\"number_cnt\")).show() \n",
    "ratings.groupBy(\"userId\").agg(count(\"*\").alias(\"number_cnt\")).orderBy(asc(\"number_cnt\")).show()"
   ]
  },
  {
   "cell_type": "markdown",
   "metadata": {},
   "source": [
    "## Approximately how long every user have spent watching movies"
   ]
  },
  {
   "cell_type": "code",
   "execution_count": 15,
   "metadata": {},
   "outputs": [
    {
     "name": "stdout",
     "output_type": "stream",
     "text": [
      "+------+----------+--------------+\n",
      "|userId|number_cnt|years_Watching|\n",
      "+------+----------+--------------+\n",
      "|   414|      2698|         0.513|\n",
      "|   599|      2478|         0.471|\n",
      "|   474|      2108|         0.401|\n",
      "|   448|      1864|         0.355|\n",
      "|   274|      1346|         0.256|\n",
      "|   610|      1302|         0.248|\n",
      "|    68|      1260|          0.24|\n",
      "|   380|      1218|         0.232|\n",
      "|   606|      1115|         0.212|\n",
      "|   288|      1055|         0.201|\n",
      "+------+----------+--------------+\n",
      "only showing top 10 rows\n",
      "\n"
     ]
    }
   ],
   "source": [
    "ratings.groupBy(\"userId\").agg(count(\"*\").alias(\"number_cnt\"))\\\n",
    "    .withColumn(\"years_Watching\", round(col(\"number_cnt\")* 100/ 60 / 24 / 365,3))\\\n",
    "    .orderBy(desc(\"years_Watching\")).show(10)"
   ]
  },
  {
   "cell_type": "markdown",
   "metadata": {},
   "source": [
    "## Converting to Pandas"
   ]
  },
  {
   "cell_type": "code",
   "execution_count": 16,
   "metadata": {},
   "outputs": [
    {
     "name": "stdout",
     "output_type": "stream",
     "text": [
      "   movieId                               title  \\\n",
      "0        1                    Toy Story (1995)   \n",
      "1        2                      Jumanji (1995)   \n",
      "2        3             Grumpier Old Men (1995)   \n",
      "3        4            Waiting to Exhale (1995)   \n",
      "4        5  Father of the Bride Part II (1995)   \n",
      "\n",
      "                                        genres  \n",
      "0  Adventure|Animation|Children|Comedy|Fantasy  \n",
      "1                   Adventure|Children|Fantasy  \n",
      "2                               Comedy|Romance  \n",
      "3                         Comedy|Drama|Romance  \n",
      "4                                       Comedy  \n",
      "   userId  movieId  rating\n",
      "0       1        1     4.0\n",
      "1       1        3     4.0\n",
      "2       1        6     4.0\n",
      "3       1       47     5.0\n",
      "4       1       50     5.0\n"
     ]
    }
   ],
   "source": [
    "import pandas as pd\n",
    "\n",
    "movies_pd = movies.toPandas()\n",
    "print(movies_pd.head())\n",
    "\n",
    "ratings_pd = ratings.toPandas()\n",
    "print(ratings_pd.head())"
   ]
  },
  {
   "cell_type": "markdown",
   "metadata": {},
   "source": [
    "## Check the rating file info"
   ]
  },
  {
   "cell_type": "code",
   "execution_count": 17,
   "metadata": {},
   "outputs": [
    {
     "name": "stdout",
     "output_type": "stream",
     "text": [
      "<class 'pandas.core.frame.DataFrame'>\n",
      "RangeIndex: 100836 entries, 0 to 100835\n",
      "Data columns (total 3 columns):\n",
      "userId     100836 non-null int32\n",
      "movieId    100836 non-null int32\n",
      "rating     100836 non-null float64\n",
      "dtypes: float64(1), int32(2)\n",
      "memory usage: 1.5 MB\n",
      "None\n"
     ]
    }
   ],
   "source": [
    "print(ratings_pd.info())"
   ]
  },
  {
   "cell_type": "markdown",
   "metadata": {},
   "source": [
    "## Check the movie file info"
   ]
  },
  {
   "cell_type": "code",
   "execution_count": 18,
   "metadata": {},
   "outputs": [
    {
     "name": "stdout",
     "output_type": "stream",
     "text": [
      "<class 'pandas.core.frame.DataFrame'>\n",
      "RangeIndex: 9742 entries, 0 to 9741\n",
      "Data columns (total 3 columns):\n",
      "movieId    9742 non-null int32\n",
      "title      9742 non-null object\n",
      "genres     9742 non-null object\n",
      "dtypes: int32(1), object(2)\n",
      "memory usage: 190.3+ KB\n",
      "None\n"
     ]
    }
   ],
   "source": [
    "print(movies_pd.info())"
   ]
  },
  {
   "cell_type": "markdown",
   "metadata": {},
   "source": [
    "# Vizulasing data"
   ]
  },
  {
   "cell_type": "markdown",
   "metadata": {},
   "source": [
    "## Get a summary statics of ratings"
   ]
  },
  {
   "cell_type": "code",
   "execution_count": 19,
   "metadata": {},
   "outputs": [
    {
     "data": {
      "text/plain": [
       "count    100836.000000\n",
       "mean          3.501557\n",
       "std           1.042529\n",
       "min           0.500000\n",
       "25%           3.000000\n",
       "50%           3.500000\n",
       "75%           4.000000\n",
       "max           5.000000\n",
       "Name: rating, dtype: float64"
      ]
     },
     "execution_count": 19,
     "metadata": {},
     "output_type": "execute_result"
    }
   ],
   "source": [
    "import pandas as pd\n",
    "ratings_pd = ratings.toPandas()\n",
    "ratings_pd['rating'].describe()"
   ]
  },
  {
   "cell_type": "markdown",
   "metadata": {},
   "source": [
    "## Display distribution of rating"
   ]
  },
  {
   "cell_type": "code",
   "execution_count": 20,
   "metadata": {},
   "outputs": [
    {
     "data": {
      "text/plain": [
       "<matplotlib.axes._subplots.AxesSubplot at 0x7fdbc5093c10>"
      ]
     },
     "execution_count": 20,
     "metadata": {},
     "output_type": "execute_result"
    },
    {
     "data": {
      "image/png": "[encoded data removed]",
      "text/plain": [
       "<matplotlib.figure.Figure at 0x7fdbc5093550>"
      ]
     },
     "metadata": {},
     "output_type": "display_data"
    }
   ],
   "source": [
    "import seaborn as sns\n",
    "sns.set_style('whitegrid')\n",
    "sns.set(font_scale=1.5)\n",
    "%matplotlib inline\n",
    "\n",
    "sns.distplot(ratings_pd['rating'].fillna(ratings_pd['rating'].median()))"
   ]
  },
  {
   "cell_type": "markdown",
   "metadata": {},
   "source": [
    "## Join the 'movies_pd' and 'ratings_pd' files into one dataframe"
   ]
  },
  {
   "cell_type": "code",
   "execution_count": 21,
   "metadata": {},
   "outputs": [
    {
     "data": {
      "text/html": [
       "<div>\n",
       "<style scoped>\n",
       "    .dataframe tbody tr th:only-of-type {\n",
       "        vertical-align: middle;\n",
       "    }\n",
       "\n",
       "    .dataframe tbody tr th {\n",
       "        vertical-align: top;\n",
       "    }\n",
       "\n",
       "    .dataframe thead th {\n",
       "        text-align: right;\n",
       "    }\n",
       "</style>\n",
       "<table border=\"1\" class=\"dataframe\">\n",
       "  <thead>\n",
       "    <tr style=\"text-align: right;\">\n",
       "      <th></th>\n",
       "      <th>title</th>\n",
       "      <th>genres</th>\n",
       "      <th>rating</th>\n",
       "    </tr>\n",
       "  </thead>\n",
       "  <tbody>\n",
       "    <tr>\n",
       "      <th>56251</th>\n",
       "      <td>Eraserhead (1977)</td>\n",
       "      <td>Drama|Horror</td>\n",
       "      <td>5.0</td>\n",
       "    </tr>\n",
       "    <tr>\n",
       "      <th>33888</th>\n",
       "      <td>Chasing Amy (1997)</td>\n",
       "      <td>Comedy|Drama|Romance</td>\n",
       "      <td>5.0</td>\n",
       "    </tr>\n",
       "    <tr>\n",
       "      <th>20742</th>\n",
       "      <td>My Fair Lady (1964)</td>\n",
       "      <td>Comedy|Drama|Musical|Romance</td>\n",
       "      <td>5.0</td>\n",
       "    </tr>\n",
       "    <tr>\n",
       "      <th>10168</th>\n",
       "      <td>Forrest Gump (1994)</td>\n",
       "      <td>Comedy|Drama|Romance|War</td>\n",
       "      <td>5.0</td>\n",
       "    </tr>\n",
       "    <tr>\n",
       "      <th>10169</th>\n",
       "      <td>Forrest Gump (1994)</td>\n",
       "      <td>Comedy|Drama|Romance|War</td>\n",
       "      <td>5.0</td>\n",
       "    </tr>\n",
       "    <tr>\n",
       "      <th>65379</th>\n",
       "      <td>Gosford Park (2001)</td>\n",
       "      <td>Comedy|Drama|Mystery</td>\n",
       "      <td>5.0</td>\n",
       "    </tr>\n",
       "    <tr>\n",
       "      <th>10171</th>\n",
       "      <td>Forrest Gump (1994)</td>\n",
       "      <td>Comedy|Drama|Romance|War</td>\n",
       "      <td>5.0</td>\n",
       "    </tr>\n",
       "    <tr>\n",
       "      <th>20739</th>\n",
       "      <td>My Fair Lady (1964)</td>\n",
       "      <td>Comedy|Drama|Musical|Romance</td>\n",
       "      <td>5.0</td>\n",
       "    </tr>\n",
       "    <tr>\n",
       "      <th>10173</th>\n",
       "      <td>Forrest Gump (1994)</td>\n",
       "      <td>Comedy|Drama|Romance|War</td>\n",
       "      <td>5.0</td>\n",
       "    </tr>\n",
       "    <tr>\n",
       "      <th>10174</th>\n",
       "      <td>Forrest Gump (1994)</td>\n",
       "      <td>Comedy|Drama|Romance|War</td>\n",
       "      <td>5.0</td>\n",
       "    </tr>\n",
       "  </tbody>\n",
       "</table>\n",
       "</div>"
      ],
      "text/plain": [
       "                     title                        genres  rating\n",
       "56251    Eraserhead (1977)                  Drama|Horror     5.0\n",
       "33888   Chasing Amy (1997)          Comedy|Drama|Romance     5.0\n",
       "20742  My Fair Lady (1964)  Comedy|Drama|Musical|Romance     5.0\n",
       "10168  Forrest Gump (1994)      Comedy|Drama|Romance|War     5.0\n",
       "10169  Forrest Gump (1994)      Comedy|Drama|Romance|War     5.0\n",
       "65379  Gosford Park (2001)          Comedy|Drama|Mystery     5.0\n",
       "10171  Forrest Gump (1994)      Comedy|Drama|Romance|War     5.0\n",
       "20739  My Fair Lady (1964)  Comedy|Drama|Musical|Romance     5.0\n",
       "10173  Forrest Gump (1994)      Comedy|Drama|Romance|War     5.0\n",
       "10174  Forrest Gump (1994)      Comedy|Drama|Romance|War     5.0"
      ]
     },
     "execution_count": 21,
     "metadata": {},
     "output_type": "execute_result"
    }
   ],
   "source": [
    "# Join the 'movies_pd' and 'ratings_pd' files into one dataframe\n",
    "dataset = pd.merge(pd.merge(movies_pd, ratings_pd), ratings_pd)\n",
    "# Display 20 movies with highest ratings\n",
    "dataset[['title','genres','rating']].sort_values('rating', ascending=False).head(10)"
   ]
  },
  {
   "cell_type": "markdown",
   "metadata": {},
   "source": [
    "## Average rating for every movie in descending order"
   ]
  },
  {
   "cell_type": "code",
   "execution_count": 22,
   "metadata": {},
   "outputs": [
    {
     "data": {
      "text/plain": [
       "title\n",
       "Karlson Returns (1970)                           5.0\n",
       "Winter in Prostokvashino (1984)                  5.0\n",
       "My Love (2006)                                   5.0\n",
       "Sorority House Massacre II (1990)                5.0\n",
       "Winnie the Pooh and the Day of Concern (1972)    5.0\n",
       "Name: rating, dtype: float64"
      ]
     },
     "execution_count": 22,
     "metadata": {},
     "output_type": "execute_result"
    }
   ],
   "source": [
    "dataset.groupby('title')['rating'].mean().sort_values(ascending=False).head()"
   ]
  },
  {
   "cell_type": "markdown",
   "metadata": {},
   "source": [
    "## Number of ratings for every movie in descending order"
   ]
  },
  {
   "cell_type": "code",
   "execution_count": 23,
   "metadata": {},
   "outputs": [
    {
     "data": {
      "text/plain": [
       "title\n",
       "Forrest Gump (1994)                 329\n",
       "Shawshank Redemption, The (1994)    317\n",
       "Pulp Fiction (1994)                 307\n",
       "Silence of the Lambs, The (1991)    279\n",
       "Matrix, The (1999)                  278\n",
       "Name: rating, dtype: int64"
      ]
     },
     "execution_count": 23,
     "metadata": {},
     "output_type": "execute_result"
    }
   ],
   "source": [
    "dataset.groupby('title')['rating'].count().sort_values(ascending=False).head()"
   ]
  },
  {
   "cell_type": "markdown",
   "metadata": {},
   "source": [
    "## The average of ratings of movies"
   ]
  },
  {
   "cell_type": "code",
   "execution_count": 24,
   "metadata": {},
   "outputs": [
    {
     "data": {
      "text/html": [
       "<div>\n",
       "<style scoped>\n",
       "    .dataframe tbody tr th:only-of-type {\n",
       "        vertical-align: middle;\n",
       "    }\n",
       "\n",
       "    .dataframe tbody tr th {\n",
       "        vertical-align: top;\n",
       "    }\n",
       "\n",
       "    .dataframe thead th {\n",
       "        text-align: right;\n",
       "    }\n",
       "</style>\n",
       "<table border=\"1\" class=\"dataframe\">\n",
       "  <thead>\n",
       "    <tr style=\"text-align: right;\">\n",
       "      <th></th>\n",
       "      <th>rating</th>\n",
       "    </tr>\n",
       "    <tr>\n",
       "      <th>title</th>\n",
       "      <th></th>\n",
       "    </tr>\n",
       "  </thead>\n",
       "  <tbody>\n",
       "    <tr>\n",
       "      <th>\"11'09\"\"01 - September 11 (2002)\"</th>\n",
       "      <td>4.0</td>\n",
       "    </tr>\n",
       "    <tr>\n",
       "      <th>'71 (2014)</th>\n",
       "      <td>4.0</td>\n",
       "    </tr>\n",
       "    <tr>\n",
       "      <th>'Hellboy': The Seeds of Creation (2004)</th>\n",
       "      <td>4.0</td>\n",
       "    </tr>\n",
       "    <tr>\n",
       "      <th>'Round Midnight (1986)</th>\n",
       "      <td>3.5</td>\n",
       "    </tr>\n",
       "    <tr>\n",
       "      <th>'Salem's Lot (2004)</th>\n",
       "      <td>5.0</td>\n",
       "    </tr>\n",
       "  </tbody>\n",
       "</table>\n",
       "</div>"
      ],
      "text/plain": [
       "                                         rating\n",
       "title                                          \n",
       "\"11'09\"\"01 - September 11 (2002)\"           4.0\n",
       "'71 (2014)                                  4.0\n",
       "'Hellboy': The Seeds of Creation (2004)     4.0\n",
       "'Round Midnight (1986)                      3.5\n",
       "'Salem's Lot (2004)                         5.0"
      ]
     },
     "execution_count": 24,
     "metadata": {},
     "output_type": "execute_result"
    }
   ],
   "source": [
    "ratings_= pd.DataFrame(dataset.groupby('title')['rating'].mean())\n",
    "ratings_.head()"
   ]
  },
  {
   "cell_type": "code",
   "execution_count": 25,
   "metadata": {},
   "outputs": [
    {
     "data": {
      "text/html": [
       "<div>\n",
       "<style scoped>\n",
       "    .dataframe tbody tr th:only-of-type {\n",
       "        vertical-align: middle;\n",
       "    }\n",
       "\n",
       "    .dataframe tbody tr th {\n",
       "        vertical-align: top;\n",
       "    }\n",
       "\n",
       "    .dataframe thead th {\n",
       "        text-align: right;\n",
       "    }\n",
       "</style>\n",
       "<table border=\"1\" class=\"dataframe\">\n",
       "  <thead>\n",
       "    <tr style=\"text-align: right;\">\n",
       "      <th></th>\n",
       "      <th>rating</th>\n",
       "      <th>num of ratings</th>\n",
       "    </tr>\n",
       "    <tr>\n",
       "      <th>title</th>\n",
       "      <th></th>\n",
       "      <th></th>\n",
       "    </tr>\n",
       "  </thead>\n",
       "  <tbody>\n",
       "    <tr>\n",
       "      <th>\"11'09\"\"01 - September 11 (2002)\"</th>\n",
       "      <td>4.0</td>\n",
       "      <td>2</td>\n",
       "    </tr>\n",
       "    <tr>\n",
       "      <th>'71 (2014)</th>\n",
       "      <td>4.0</td>\n",
       "      <td>1</td>\n",
       "    </tr>\n",
       "    <tr>\n",
       "      <th>'Hellboy': The Seeds of Creation (2004)</th>\n",
       "      <td>4.0</td>\n",
       "      <td>1</td>\n",
       "    </tr>\n",
       "    <tr>\n",
       "      <th>'Round Midnight (1986)</th>\n",
       "      <td>3.5</td>\n",
       "      <td>2</td>\n",
       "    </tr>\n",
       "    <tr>\n",
       "      <th>'Salem's Lot (2004)</th>\n",
       "      <td>5.0</td>\n",
       "      <td>1</td>\n",
       "    </tr>\n",
       "  </tbody>\n",
       "</table>\n",
       "</div>"
      ],
      "text/plain": [
       "                                         rating  num of ratings\n",
       "title                                                          \n",
       "\"11'09\"\"01 - September 11 (2002)\"           4.0               2\n",
       "'71 (2014)                                  4.0               1\n",
       "'Hellboy': The Seeds of Creation (2004)     4.0               1\n",
       "'Round Midnight (1986)                      3.5               2\n",
       "'Salem's Lot (2004)                         5.0               1"
      ]
     },
     "execution_count": 25,
     "metadata": {},
     "output_type": "execute_result"
    }
   ],
   "source": [
    "ratings_['num of ratings'] = pd.DataFrame(dataset.groupby('title')['rating'].count())\n",
    "ratings_.head()"
   ]
  },
  {
   "cell_type": "code",
   "execution_count": 26,
   "metadata": {},
   "outputs": [
    {
     "data": {
      "text/plain": [
       "<matplotlib.axes._subplots.AxesSubplot at 0x7fdbd8435710>"
      ]
     },
     "execution_count": 26,
     "metadata": {},
     "output_type": "execute_result"
    },
    {
     "data": {
      "image/png": "[encoded data removed]",
      "text/plain": [
       "<matplotlib.figure.Figure at 0x7fdbd8435bd0>"
      ]
     },
     "metadata": {},
     "output_type": "display_data"
    }
   ],
   "source": [
    "import matplotlib.pyplot as plt\n",
    "plt.figure(figsize=(10,4))\n",
    "ratings_['rating'].hist(bins=70)"
   ]
  },
  {
   "cell_type": "code",
   "execution_count": 27,
   "metadata": {},
   "outputs": [
    {
     "data": {
      "text/plain": [
       "<seaborn.axisgrid.JointGrid at 0x7fdbbc9dd890>"
      ]
     },
     "execution_count": 27,
     "metadata": {},
     "output_type": "execute_result"
    },
    {
     "data": {
      "image/png": "[encoded data removed]",
      "text/plain": [
       "<matplotlib.figure.Figure at 0x7fdbbc9ddf50>"
      ]
     },
     "metadata": {},
     "output_type": "display_data"
    }
   ],
   "source": [
    "sns.jointplot(x='rating',y='num of ratings',data=ratings_,alpha=0.5)"
   ]
  },
  {
   "cell_type": "markdown",
   "metadata": {},
   "source": [
    "## Vizulasing the number of ratings"
   ]
  },
  {
   "cell_type": "markdown",
   "metadata": {},
   "source": [
    "### Top 10 most rated movies"
   ]
  },
  {
   "cell_type": "code",
   "execution_count": 28,
   "metadata": {},
   "outputs": [
    {
     "data": {
      "text/html": [
       "<div>\n",
       "<style scoped>\n",
       "    .dataframe tbody tr th:only-of-type {\n",
       "        vertical-align: middle;\n",
       "    }\n",
       "\n",
       "    .dataframe tbody tr th {\n",
       "        vertical-align: top;\n",
       "    }\n",
       "\n",
       "    .dataframe thead th {\n",
       "        text-align: right;\n",
       "    }\n",
       "</style>\n",
       "<table border=\"1\" class=\"dataframe\">\n",
       "  <thead>\n",
       "    <tr style=\"text-align: right;\">\n",
       "      <th></th>\n",
       "      <th>rating</th>\n",
       "      <th>num of ratings</th>\n",
       "    </tr>\n",
       "    <tr>\n",
       "      <th>title</th>\n",
       "      <th></th>\n",
       "      <th></th>\n",
       "    </tr>\n",
       "  </thead>\n",
       "  <tbody>\n",
       "    <tr>\n",
       "      <th>Forrest Gump (1994)</th>\n",
       "      <td>4.164134</td>\n",
       "      <td>329</td>\n",
       "    </tr>\n",
       "    <tr>\n",
       "      <th>Shawshank Redemption, The (1994)</th>\n",
       "      <td>4.429022</td>\n",
       "      <td>317</td>\n",
       "    </tr>\n",
       "    <tr>\n",
       "      <th>Pulp Fiction (1994)</th>\n",
       "      <td>4.197068</td>\n",
       "      <td>307</td>\n",
       "    </tr>\n",
       "    <tr>\n",
       "      <th>Silence of the Lambs, The (1991)</th>\n",
       "      <td>4.161290</td>\n",
       "      <td>279</td>\n",
       "    </tr>\n",
       "    <tr>\n",
       "      <th>Matrix, The (1999)</th>\n",
       "      <td>4.192446</td>\n",
       "      <td>278</td>\n",
       "    </tr>\n",
       "    <tr>\n",
       "      <th>Star Wars: Episode IV - A New Hope (1977)</th>\n",
       "      <td>4.231076</td>\n",
       "      <td>251</td>\n",
       "    </tr>\n",
       "    <tr>\n",
       "      <th>Jurassic Park (1993)</th>\n",
       "      <td>3.750000</td>\n",
       "      <td>238</td>\n",
       "    </tr>\n",
       "    <tr>\n",
       "      <th>Braveheart (1995)</th>\n",
       "      <td>4.031646</td>\n",
       "      <td>237</td>\n",
       "    </tr>\n",
       "    <tr>\n",
       "      <th>Terminator 2: Judgment Day (1991)</th>\n",
       "      <td>3.970982</td>\n",
       "      <td>224</td>\n",
       "    </tr>\n",
       "    <tr>\n",
       "      <th>Schindler's List (1993)</th>\n",
       "      <td>4.225000</td>\n",
       "      <td>220</td>\n",
       "    </tr>\n",
       "  </tbody>\n",
       "</table>\n",
       "</div>"
      ],
      "text/plain": [
       "                                             rating  num of ratings\n",
       "title                                                              \n",
       "Forrest Gump (1994)                        4.164134             329\n",
       "Shawshank Redemption, The (1994)           4.429022             317\n",
       "Pulp Fiction (1994)                        4.197068             307\n",
       "Silence of the Lambs, The (1991)           4.161290             279\n",
       "Matrix, The (1999)                         4.192446             278\n",
       "Star Wars: Episode IV - A New Hope (1977)  4.231076             251\n",
       "Jurassic Park (1993)                       3.750000             238\n",
       "Braveheart (1995)                          4.031646             237\n",
       "Terminator 2: Judgment Day (1991)          3.970982             224\n",
       "Schindler's List (1993)                    4.225000             220"
      ]
     },
     "execution_count": 28,
     "metadata": {},
     "output_type": "execute_result"
    }
   ],
   "source": [
    "ratings_.sort_values('num of ratings',ascending=False).head(10)"
   ]
  },
  {
   "cell_type": "code",
   "execution_count": 29,
   "metadata": {},
   "outputs": [
    {
     "data": {
      "text/plain": [
       "<matplotlib.axes._subplots.AxesSubplot at 0x7fdbbc7a3a90>"
      ]
     },
     "execution_count": 29,
     "metadata": {},
     "output_type": "execute_result"
    },
    {
     "data": {
      "image/png": "[encoded data removed]",
      "text/plain": [
       "<matplotlib.figure.Figure at 0x7fdbbc7a3710>"
      ]
     },
     "metadata": {},
     "output_type": "display_data"
    }
   ],
   "source": [
    "plt.figure(figsize=(10,5))\n",
    "ratings_['num of ratings'].hist(bins=50)"
   ]
  },
  {
   "cell_type": "code",
   "execution_count": 30,
   "metadata": {},
   "outputs": [
    {
     "data": {
      "text/plain": [
       "<matplotlib.axes._subplots.AxesSubplot at 0x7fdbbc594510>"
      ]
     },
     "execution_count": 30,
     "metadata": {},
     "output_type": "execute_result"
    },
    {
     "data": {
      "image/png": "[encoded data removed]",
      "text/plain": [
       "<matplotlib.figure.Figure at 0x7fdbbc5b0150>"
      ]
     },
     "metadata": {},
     "output_type": "display_data"
    }
   ],
   "source": [
    "sns.distplot(ratings_['num of ratings'].fillna(ratings_['num of ratings'].median()))"
   ]
  },
  {
   "cell_type": "markdown",
   "metadata": {},
   "source": [
    "# WorldCloud "
   ]
  },
  {
   "cell_type": "markdown",
   "metadata": {},
   "source": [
    "### Installed a pip package in the current Jupyter kernel"
   ]
  },
  {
   "cell_type": "code",
   "execution_count": 31,
   "metadata": {},
   "outputs": [
    {
     "name": "stdout",
     "output_type": "stream",
     "text": [
      "\u001b[33mYou must give at least one requirement to install (see \"pip help install\")\u001b[0m\n",
      "\u001b[33mYou are using pip version 9.0.1, however version 20.1 is available.\n",
      "You should consider upgrading via the 'pip install --upgrade pip' command.\u001b[0m\n"
     ]
    }
   ],
   "source": [
    "import sys\n",
    "!{sys.executable} -m pip install "
   ]
  },
  {
   "cell_type": "markdown",
   "metadata": {},
   "source": [
    "### Method that counts the number of times each of the genre keywords appears"
   ]
  },
  {
   "cell_type": "code",
   "execution_count": 32,
   "metadata": {},
   "outputs": [],
   "source": [
    "import numpy as np\n",
    "import wordcloud\n",
    "from wordcloud import WordCloud, STOPWORDS"
   ]
  },
  {
   "cell_type": "code",
   "execution_count": 33,
   "metadata": {},
   "outputs": [],
   "source": [
    "def count_word(dataset, ref_col, census):\n",
    "    keyword_count = dict()\n",
    "    for s in census: \n",
    "        keyword_count[s] = 0\n",
    "    for census_keywords in dataset[ref_col].str.split('|'):        \n",
    "        if type(census_keywords) == float and pd.isnull(census_keywords): \n",
    "            continue        \n",
    "        for s in [s for s in census_keywords if s in census]: \n",
    "            if pd.notnull(s): \n",
    "                keyword_count[s] += 1\n",
    "    \n",
    "    # converting the dictionary in a list to sort the keywords by frequency\n",
    "    keyword_occurences = []\n",
    "    for k,v in keyword_count.items():\n",
    "        keyword_occurences.append([k,v])\n",
    "    keyword_occurences.sort(key = lambda x:x[1], reverse = True)\n",
    "    return keyword_occurences, keyword_count"
   ]
  },
  {
   "cell_type": "markdown",
   "metadata": {},
   "source": [
    "## WorldCloud of move genras"
   ]
  },
  {
   "cell_type": "markdown",
   "metadata": {},
   "source": [
    "### Make a census of the genre keywords"
   ]
  },
  {
   "cell_type": "code",
   "execution_count": 34,
   "metadata": {},
   "outputs": [],
   "source": [
    "genre_labels = set()\n",
    "for s in movies_pd['genres'].str.split('|').values:\n",
    "    genre_labels = genre_labels.union(set(s))"
   ]
  },
  {
   "cell_type": "markdown",
   "metadata": {},
   "source": [
    "### Calling the function, gives access to a list of genre keywords which are sorted by decreasing frequency"
   ]
  },
  {
   "cell_type": "code",
   "execution_count": 35,
   "metadata": {},
   "outputs": [
    {
     "data": {
      "text/plain": [
       "[[u'Drama', 4361],\n",
       " [u'Comedy', 3756],\n",
       " [u'Thriller', 1894],\n",
       " [u'Action', 1828],\n",
       " [u'Romance', 1596]]"
      ]
     },
     "execution_count": 35,
     "metadata": {},
     "output_type": "execute_result"
    }
   ],
   "source": [
    "keyword_occurences, dum = count_word(movies_pd, 'genres', genre_labels)\n",
    "keyword_occurences[:5]"
   ]
  },
  {
   "cell_type": "markdown",
   "metadata": {},
   "source": [
    "### Define the dictionary used to produce the genre wordcloud"
   ]
  },
  {
   "cell_type": "code",
   "execution_count": 36,
   "metadata": {},
   "outputs": [
    {
     "data": {
      "image/png": "[encoded data removed]",
      "text/plain": [
       "<matplotlib.figure.Figure at 0x7fdbbc575210>"
      ]
     },
     "metadata": {},
     "output_type": "display_data"
    }
   ],
   "source": [
    "genres = dict()\n",
    "trunc_occurences = keyword_occurences[0:18]\n",
    "for s in trunc_occurences:\n",
    "    genres[s[0]] = s[1]\n",
    "\n",
    "# Create the wordcloud\n",
    "genre_wordcloud = WordCloud(width=1000,height=400, background_color='Black')\n",
    "genre_wordcloud.generate_from_frequencies(genres)\n",
    "\n",
    "# Plot the wordcloud\n",
    "f, ax = plt.subplots(figsize=(16, 8))\n",
    "plt.imshow(genre_wordcloud, interpolation=\"bilinear\")\n",
    "plt.axis('off')\n",
    "plt.show()"
   ]
  },
  {
   "cell_type": "markdown",
   "metadata": {},
   "source": [
    "# Alternating Least Squares Model"
   ]
  },
  {
   "cell_type": "markdown",
   "metadata": {},
   "source": [
    "## Check the data types of each of the columns"
   ]
  },
  {
   "cell_type": "code",
   "execution_count": 37,
   "metadata": {},
   "outputs": [
    {
     "name": "stdout",
     "output_type": "stream",
     "text": [
      "[('movieId', 'int'), ('userId', 'int'), ('rating', 'double'), ('title', 'string'), ('genres', 'string')]\n",
      "[('userId', 'int'), ('movieId', 'int'), ('rating', 'double')]\n",
      "[('userId', 'int'), ('movieId', 'int'), ('rating', 'double'), ('timestamp', 'int')]\n"
     ]
    }
   ],
   "source": [
    "print(ratings_movies.dtypes)\n",
    "print(ratings.dtypes)\n",
    "print(old_ratings.dtypes)"
   ]
  },
  {
   "cell_type": "markdown",
   "metadata": {},
   "source": [
    "### Training the ALS-model"
   ]
  },
  {
   "cell_type": "code",
   "execution_count": 100,
   "metadata": {},
   "outputs": [],
   "source": [
    "from pyspark.ml.recommendation import ALS \n",
    "\n",
    "# Split into training and testing sets\n",
    "#training, test = ratings_movies.randomSplit([0.8, 0.2])\n",
    "training, test = ratings.randomSplit([0.8, 0.2])\n",
    "\n",
    "# Build the recommendation model using ALS on the training data\n",
    "# Cold start strategy is set to 'drop' to ensure that  don't get NaN evaluation metrics\n",
    "als = ALS(userCol='userId', itemCol='movieId', ratingCol='rating', \\\n",
    "          implicitPrefs=True , coldStartStrategy=\"drop\", nonnegative=True)\n",
    "\n",
    "# Fit the ALS model to the training set\n",
    "trained_model = als.fit(training)"
   ]
  },
  {
   "cell_type": "markdown",
   "metadata": {},
   "source": [
    "## Testing the ALS-model"
   ]
  },
  {
   "cell_type": "code",
   "execution_count": 40,
   "metadata": {},
   "outputs": [
    {
     "name": "stdout",
     "output_type": "stream",
     "text": [
      "RMSE on test data: 3.22513020137\n"
     ]
    }
   ],
   "source": [
    "from pyspark.ml.evaluation import RegressionEvaluator\n",
    "\n",
    "predictions = trained_model.transform(test)\n",
    "\n",
    "# Evaluate the model by computing the RMSE on the test data\n",
    "evaluator = RegressionEvaluator(metricName='rmse', labelCol='rating', predictionCol='prediction')\n",
    "rmse = evaluator.evaluate(predictions)\n",
    "print('RMSE on test data: ' + str(rmse))"
   ]
  },
  {
   "cell_type": "markdown",
   "metadata": {},
   "source": [
    "### Write RMSE result to GCP bucket¶"
   ]
  },
  {
   "cell_type": "code",
   "execution_count": 103,
   "metadata": {},
   "outputs": [],
   "source": [
    "from google.cloud import storage\n",
    "\n",
    "client = storage.Client()\n",
    "bucket = client.bucket('bdpp-movie-recommender-system-bucket')\n",
    "\n",
    "blob = bucket.get_blob('outputs/rmse_test.txt')\n",
    "\n",
    "blob.upload_from_string('RMSE on test data: ' + str(rmse))"
   ]
  },
  {
   "cell_type": "markdown",
   "metadata": {},
   "source": [
    "## Cross-validation to find the optimal model"
   ]
  },
  {
   "cell_type": "code",
   "execution_count": null,
   "metadata": {},
   "outputs": [
    {
     "name": "stdout",
     "output_type": "stream",
     "text": [
      "RMSE score from cross-validation: 3.21682595888\n",
      "**Best Model**\n",
      " Rank: 10\n",
      " MaxIter: 10\n",
      "RegParam: 0.01\n"
     ]
    }
   ],
   "source": [
    "from pyspark.ml.tuning import CrossValidator, ParamGridBuilder\n",
    "\n",
    "# create the parameter grid              \n",
    "params = ParamGridBuilder().addGrid(als.maxIter, [5, 10, 15])\\\n",
    "                            .addGrid(als.regParam, [0.001, 0.01, 0.1])\\\n",
    "                            .addGrid(als.rank, [1, 5, 10,20]).build()\n",
    "        \n",
    "# instantiating crossvalidator estimator\n",
    "cv = CrossValidator(estimator=als, estimatorParamMaps=params, evaluator=evaluator, numFolds=4)\n",
    "cv_model = cv.fit(training)\n",
    "\n",
    "#Extract best model from the tuning exercise using ParamGridBuilder\n",
    "best_model = cv_model.bestModel\n",
    "\n",
    "#Generate predictions and evaluate using RMSE\n",
    "predictions = best_model.transform(test)\n",
    "rmse_cross = evaluator.evaluate(predictions)\n",
    "\n",
    "\n",
    "print('RMSE score from cross-validation: ' + str(rmse_cross))\n",
    "print(\"**Best Model**\")\n",
    "print(\" Rank:\"), best_model.rank\n",
    "print(\" MaxIter:\"), best_model._java_obj.parent().getMaxIter()\n",
    "print( \"RegParam:\"), best_model._java_obj.parent().getRegParam()"
   ]
  },
  {
   "cell_type": "markdown",
   "metadata": {},
   "source": [
    "### Global variables - RMSE, Rank, MaxIter, RegParam"
   ]
  },
  {
   "cell_type": "code",
   "execution_count": null,
   "metadata": {},
   "outputs": [],
   "source": [
    "RMSE_cross = str(rmse_cross)\n",
    "bestRank = best_model.rank\n",
    "bestMaxIter = best_model._java_obj.parent().getMaxIter()\n",
    "bestRegRaram = best_model._java_obj.parent().getRegParam()"
   ]
  },
  {
   "cell_type": "markdown",
   "metadata": {},
   "source": [
    "### Write the best hyperparameters and cross-validation score to GCP "
   ]
  },
  {
   "cell_type": "code",
   "execution_count": 105,
   "metadata": {},
   "outputs": [],
   "source": [
    "blob = bucket.get_blob('outputs/bestHyperParam_crossVal.txt')\n",
    "blob.upload_from_string('RMSE from cross-validation data: ' + RMSE_cross + '\\n' +\n",
    "                       'Best rank value: ' + str(bestRank) + '\\n' +\n",
    "                       'Best number of max iterations: ' + str(bestMaxIter)\t+ '\\n' +\n",
    "                       'Best regularization parameter: ' + str(bestRegRaram))\n",
    "                        "
   ]
  },
  {
   "cell_type": "markdown",
   "metadata": {},
   "source": [
    "### Show prediction "
   ]
  },
  {
   "cell_type": "code",
   "execution_count": null,
   "metadata": {},
   "outputs": [
    {
     "name": "stdout",
     "output_type": "stream",
     "text": [
      "+------+-------+------+----------+\n",
      "|userId|movieId|rating|prediction|\n",
      "+------+-------+------+----------+\n",
      "|     1|   2253|   2.0| 0.3464011|\n",
      "|     1|   1408|   3.0| 0.4211987|\n",
      "|     1|   3247|   3.0| 0.5052669|\n",
      "|     1|   1377|   3.0|0.63743216|\n",
      "|     1|   3243|   3.0|0.30339068|\n",
      "|     1|   2657|   3.0| 0.5827893|\n",
      "|     1|   2414|   3.0|0.40016624|\n",
      "|     1|   1258|   3.0| 0.6357426|\n",
      "|     1|   2012|   4.0| 0.6567277|\n",
      "|     1|    480|   4.0| 0.8121699|\n",
      "|     1|    590|   4.0| 0.5720466|\n",
      "|     1|   3639|   4.0|0.41140547|\n",
      "|     1|   1500|   4.0| 0.6696961|\n",
      "|     1|   1552|   4.0|0.64052445|\n",
      "|     1|   2366|   4.0|0.44552475|\n",
      "|     1|   2099|   4.0|0.19005086|\n",
      "|     1|   1060|   4.0|0.32025003|\n",
      "|     1|   2054|   4.0|0.65673614|\n",
      "|     1|    593|   4.0| 0.7195841|\n",
      "|     1|   3440|   4.0|0.26894128|\n",
      "+------+-------+------+----------+\n",
      "only showing top 20 rows\n",
      "\n"
     ]
    }
   ],
   "source": [
    "predictions.sort(\"userId\", \"rating\").show()"
   ]
  },
  {
   "cell_type": "markdown",
   "metadata": {},
   "source": [
    "## Incorporating the title, ids and genre of the movies"
   ]
  },
  {
   "cell_type": "markdown",
   "metadata": {},
   "source": [
    "### Matching up the movie ids with the movie titles. "
   ]
  },
  {
   "cell_type": "markdown",
   "metadata": {},
   "source": [
    "In the cell below, a function 'name_retriever()' that takes in a 'movie_id' and returns a string that represents the movie title."
   ]
  },
  {
   "cell_type": "code",
   "execution_count": null,
   "metadata": {},
   "outputs": [],
   "source": [
    "def name_retriever(movie_id, movie_title_df):\n",
    "    movie_title = movie_title_df.select([\"movieId\", \"title\"]).filter(movies[\"movieId\"]==movie_id)\n",
    "    return movie_title.collect()[0][1]"
   ]
  },
  {
   "cell_type": "markdown",
   "metadata": {},
   "source": [
    "#### Test the metod"
   ]
  },
  {
   "cell_type": "markdown",
   "metadata": {},
   "source": [
    "Should print \"Winnie the Pooh and the Blustery Day (1968)\"."
   ]
  },
  {
   "cell_type": "code",
   "execution_count": null,
   "metadata": {},
   "outputs": [
    {
     "name": "stdout",
     "output_type": "stream",
     "text": [
      "Winnie the Pooh and the Blustery Day (1968)\n"
     ]
    }
   ],
   "source": [
    "print(name_retriever(1023, movies))"
   ]
  },
  {
   "cell_type": "markdown",
   "metadata": {},
   "source": [
    "### Matching up the title with the movie ids. "
   ]
  },
  {
   "cell_type": "markdown",
   "metadata": {},
   "source": [
    "In the cell below, a function 'id_retriever()' that takes in a 'movie_title' and returns a integer that represents the movie id."
   ]
  },
  {
   "cell_type": "code",
   "execution_count": null,
   "metadata": {},
   "outputs": [],
   "source": [
    "def id_retriever(movie_title, movie_title_df):\n",
    "    movie_id = movie_title_df.select([\"movieId\", \"title\"]).filter(movies[\"title\"]==movie_title)\n",
    "    return movie_id.collect()[0][0]"
   ]
  },
  {
   "cell_type": "markdown",
   "metadata": {},
   "source": [
    "#### Test the method "
   ]
  },
  {
   "cell_type": "markdown",
   "metadata": {},
   "source": [
    "Should print \"1023\". "
   ]
  },
  {
   "cell_type": "code",
   "execution_count": null,
   "metadata": {},
   "outputs": [
    {
     "name": "stdout",
     "output_type": "stream",
     "text": [
      "1023\n"
     ]
    }
   ],
   "source": [
    "print(id_retriever(\"Winnie the Pooh and the Blustery Day (1968)\", movies))"
   ]
  },
  {
   "cell_type": "markdown",
   "metadata": {},
   "source": [
    "Matching up the movie_title or movie_id with the movie genre. In the cell below, created a function genre_retriever() that takes in a movie_title or movie_id and returns a string that represents the movie genre."
   ]
  },
  {
   "cell_type": "code",
   "execution_count": null,
   "metadata": {},
   "outputs": [],
   "source": [
    "def genre_retriever(movie_title_df, movie_title= None, movie_id= None):\n",
    "    if movie_title is not None: \n",
    "        movie_genre = movie_title_df.select([\"genres\", \"title\"]).filter(movies[\"title\"]==movie_title)\n",
    "        return movie_genre.collect()[0][0]\n",
    "    elif movie_id is not None:\n",
    "        movie_genre = movie_title_df.select([\"movieId\", \"genres\"]).filter(movies[\"movieId\"]==movie_id)\n",
    "        return movie_genre.collect()[0][1]\n",
    "    else:\n",
    "        return None "
   ]
  },
  {
   "cell_type": "markdown",
   "metadata": {},
   "source": [
    "#### Test the method"
   ]
  },
  {
   "cell_type": "markdown",
   "metadata": {},
   "source": [
    "Should print \"Animation|Children|Musical\"."
   ]
  },
  {
   "cell_type": "code",
   "execution_count": null,
   "metadata": {},
   "outputs": [
    {
     "name": "stdout",
     "output_type": "stream",
     "text": [
      "Animation|Children|Musical\n",
      "Animation|Children|Musical\n"
     ]
    }
   ],
   "source": [
    "print(genre_retriever(movies, movie_title=\"Winnie the Pooh and the Blustery Day (1968)\"))\n",
    "print(genre_retriever(movies, movie_id=1023))"
   ]
  },
  {
   "cell_type": "markdown",
   "metadata": {},
   "source": [
    "## Getting Predictions for a new user"
   ]
  },
  {
   "cell_type": "markdown",
   "metadata": {},
   "source": [
    "This function is based on a users rating a movie. It returns $n$ number of highest recommended movies. This function will have multiple different steps to it:\n",
    "\n",
    "- Adding the new ratings into the DataFrame \n",
    "- Fitting the ALS model\n",
    "- Make recommendations for the user of choice\n",
    "- Print out the names of the top $n$ recommendations in a reader-friendly manner\n",
    "\n",
    "The function should take in the parameters:\n",
    "- user_id : int\n",
    "- new_ratings : list of tuples in the format (userId, title, rating)\n",
    "- rating_df : spark DF containing ratings\n",
    "- movie_df : spark DF containing movie titles\n",
    "- rating_movie_df : joined spark DF of rating_df and movie_title_df\n",
    "- num_recs : int"
   ]
  },
  {
   "cell_type": "code",
   "execution_count": 97,
   "metadata": {},
   "outputs": [],
   "source": [
    "def new_user_recs(user_id, new_ratings, rating_df, movie_df, rating_movie_df, num_recs):\n",
    "    # Creat a new row \n",
    "    new_row = spark.createDataFrame([(id_retriever(new_ratings[1], movie_df),\\\n",
    "                                      user_id, new_ratings[2], new_ratings[1], \\\n",
    "                                      genre_retriever(movie_df, movie_title= new_ratings[1]))])\n",
    "    # combine the new ratings df with the rating_df\n",
    "    temp_df = rating_movie_df\n",
    "    temp_df = temp_df.union(new_row)\n",
    "   \n",
    "    # create an ALS model and fit it\n",
    "    als = ALS(userCol='userId', itemCol='movieId', ratingCol='rating', \\\n",
    "          implicitPrefs=True , coldStartStrategy=\"drop\", \\\n",
    "              regParam= bestRegRaram, maxIter= bestMaxIter, rank= bestRank)\n",
    "        \n",
    "    # fit the ALS model to the data-set\n",
    "    fit_model = als.fit(temp_df)\n",
    "    \n",
    "    # make recommendations for all users using the recommendForAllUsers method\n",
    "    all_user_recs = fit_model.recommendForAllUsers(num_recs)\n",
    "    \n",
    "    # get recommendations specifically for the new user that has been added to the DataFrame\n",
    "    get_user = temp_df.select(als.getUserCol()).filter(col(\"userId\") == user_id)\n",
    "    get_rec_user = fit_model.recommendForUserSubset(get_user, num_recs)\n",
    "       \n",
    "    print(\"Based of your rating of \" + new_ratings[1] + \" you might also like to watch:\")\n",
    "    for num, recommendation in enumerate(get_rec_user.select(\"recommendations\").collect()[0][0], 1):\n",
    "        print(str(num)+ \". \"+name_retriever(recommendation[0], movies))\n",
    "    \n",
    "    pass"
   ]
  },
  {
   "cell_type": "markdown",
   "metadata": {},
   "source": [
    "#### Test the function"
   ]
  },
  {
   "cell_type": "code",
   "execution_count": 98,
   "metadata": {},
   "outputs": [
    {
     "name": "stdout",
     "output_type": "stream",
     "text": [
      "Based of your rating of Toy Story (1995) you might also like to watch:\n",
      "1. Star Wars: Episode V - The Empire Strikes Back (1980)\n",
      "2. Star Wars: Episode IV - A New Hope (1977)\n",
      "3. Star Wars: Episode VI - Return of the Jedi (1983)\n",
      "4. Alien (1979)\n",
      "5. Raiders of the Lost Ark (Indiana Jones and the Raiders of the Lost Ark) (1981)\n",
      "6. Jurassic Park (1993)\n",
      "7. Back to the Future (1985)\n",
      "8. Princess Bride, The (1987)\n",
      "9. Men in Black (a.k.a. MIB) (1997)\n",
      "10. Aliens (1986)\n"
     ]
    }
   ],
   "source": [
    "#new_ratings = (1, \"Toy Story (1995)\", 4)\n",
    "new_user_recs(1, (1, \"Toy Story (1995)\", 4), ratings, movies, ratings_movies, 10)"
   ]
  }
 ],
 "metadata": {
  "kernelspec": {
   "display_name": "Python 2",
   "language": "python",
   "name": "python2"
  },
  "language_info": {
   "codemirror_mode": {
    "name": "ipython",
    "version": 2
   },
   "file_extension": ".py",
   "mimetype": "text/x-python",
   "name": "python",
   "nbconvert_exporter": "python",
   "pygments_lexer": "ipython2",
   "version": "2.7.14"
  }
 },
 "nbformat": 4,
 "nbformat_minor": 2
}